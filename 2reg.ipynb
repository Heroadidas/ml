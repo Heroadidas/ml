{
 "cells": [
  {
   "cell_type": "code",
   "execution_count": 1,
   "metadata": {},
   "outputs": [],
   "source": [
    "import pandas as pd\n",
    "from sklearn.model_selection import train_test_split\n",
    "from sklearn.linear_model import LinearRegression\n",
    "from sklearn.tree import DecisionTreeRegressor\n",
    "from sklearn.ensemble import RandomForestRegressor\n",
    "from sklearn.metrics import mean_squared_error\n",
    "from sklearn.metrics import r2_score,mean_absolute_error\n",
    "df=pd.read_csv('placement.csv')\n",
    "X=df['cgpa'].values.reshape(-1,1)\n",
    "X_train, X_test, y_train, y_test = train_test_split(X,df['package'], test_size=0.2, random_state=42)\n",
    "\n"
   ]
  },
  {
   "cell_type": "code",
   "execution_count": 2,
   "metadata": {},
   "outputs": [
    {
     "name": "stdout",
     "output_type": "stream",
     "text": [
      "Linear Regression RMSE:  0.2901316659954521\n",
      "Linear Regression R2 Score:  0.7730984312051673\n",
      "Linear Regression MAE:  0.23150985393278373\n"
     ]
    },
    {
     "name": "stderr",
     "output_type": "stream",
     "text": [
      "C:\\Users\\ADIDAS\\AppData\\Local\\Packages\\PythonSoftwareFoundation.Python.3.11_qbz5n2kfra8p0\\LocalCache\\local-packages\\Python311\\site-packages\\sklearn\\metrics\\_regression.py:483: FutureWarning: 'squared' is deprecated in version 1.4 and will be removed in 1.6. To calculate the root mean squared error, use the function'root_mean_squared_error'.\n",
      "  warnings.warn(\n"
     ]
    }
   ],
   "source": [
    "lr = LinearRegression()\n",
    "lr.fit(X_train, y_train)\n",
    "y_pred_lr = lr.predict(X_test)\n",
    "print('Linear Regression RMSE: ', mean_squared_error(y_test, y_pred_lr, squared=False))\n",
    "print('Linear Regression R2 Score: ', r2_score(y_test, y_pred_lr))\n",
    "print('Linear Regression MAE: ', mean_absolute_error(y_test, y_pred_lr))"
   ]
  },
  {
   "cell_type": "code",
   "execution_count": 3,
   "metadata": {},
   "outputs": [
    {
     "name": "stdout",
     "output_type": "stream",
     "text": [
      "Decision Tree RMSE:  0.42111667441722395\n",
      "Decision Tree R2 Score:  0.5219733481708333\n",
      "Decision Tree MAE:  0.3373541666666666\n"
     ]
    },
    {
     "name": "stderr",
     "output_type": "stream",
     "text": [
      "C:\\Users\\ADIDAS\\AppData\\Local\\Packages\\PythonSoftwareFoundation.Python.3.11_qbz5n2kfra8p0\\LocalCache\\local-packages\\Python311\\site-packages\\sklearn\\metrics\\_regression.py:483: FutureWarning: 'squared' is deprecated in version 1.4 and will be removed in 1.6. To calculate the root mean squared error, use the function'root_mean_squared_error'.\n",
      "  warnings.warn(\n"
     ]
    }
   ],
   "source": [
    "Drt=DecisionTreeRegressor()\n",
    "Drt.fit(X_train,y_train)\n",
    "y_pred_Drt=Drt.predict(X_test)\n",
    "print('Decision Tree RMSE: ', mean_squared_error(y_test, y_pred_Drt, squared=False))\n",
    "print('Decision Tree R2 Score: ', r2_score(y_test, y_pred_Drt))\n",
    "print('Decision Tree MAE: ', mean_absolute_error(y_test, y_pred_Drt))"
   ]
  },
  {
   "cell_type": "code",
   "execution_count": 4,
   "metadata": {},
   "outputs": [
    {
     "name": "stdout",
     "output_type": "stream",
     "text": [
      "Random Forest RMSE:  0.35356185294535136\n",
      "Random Forest R2 Score:  0.6630402420652886\n",
      "Random Forest MAE:  0.27964205257936536\n"
     ]
    },
    {
     "name": "stderr",
     "output_type": "stream",
     "text": [
      "C:\\Users\\ADIDAS\\AppData\\Local\\Packages\\PythonSoftwareFoundation.Python.3.11_qbz5n2kfra8p0\\LocalCache\\local-packages\\Python311\\site-packages\\sklearn\\metrics\\_regression.py:483: FutureWarning: 'squared' is deprecated in version 1.4 and will be removed in 1.6. To calculate the root mean squared error, use the function'root_mean_squared_error'.\n",
      "  warnings.warn(\n"
     ]
    }
   ],
   "source": [
    "Rf=RandomForestRegressor()\n",
    "Rf.fit(X_train,y_train)\n",
    "y_pred_Rf=Rf.predict(X_test)\n",
    "print('Random Forest RMSE: ', mean_squared_error(y_test, y_pred_Rf, squared=False))\n",
    "print('Random Forest R2 Score: ', r2_score(y_test, y_pred_Rf))\n",
    "print('Random Forest MAE: ', mean_absolute_error(y_test, y_pred_Rf))"
   ]
  },
  {
   "cell_type": "code",
   "execution_count": null,
   "metadata": {},
   "outputs": [],
   "source": []
  }
 ],
 "metadata": {
  "kernelspec": {
   "display_name": "Python 3",
   "language": "python",
   "name": "python3"
  },
  "language_info": {
   "codemirror_mode": {
    "name": "ipython",
    "version": 3
   },
   "file_extension": ".py",
   "mimetype": "text/x-python",
   "name": "python",
   "nbconvert_exporter": "python",
   "pygments_lexer": "ipython3",
   "version": "3.11.9"
  }
 },
 "nbformat": 4,
 "nbformat_minor": 2
}
